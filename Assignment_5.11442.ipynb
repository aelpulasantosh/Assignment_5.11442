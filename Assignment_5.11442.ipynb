{
 "cells": [
  {
   "cell_type": "markdown",
   "metadata": {},
   "source": [
    "# How-to-count-distance-to-the-previous-zero\n",
    "For each value, count the difference of the distance from the previous zero (or the start\n",
    "of the Series, whichever is closer) and if there are no previous zeros,print the position\n",
    "Consider a DataFrame df where there is an integer column {'X':[7, 2, 0, 3, 4, 2, 5, 0, 3, 4]}\n",
    "The values should therefore be [1, 2, 0, 1, 2, 3, 4, 0, 1, 2]. Make this a new column 'Y'"
   ]
  },
  {
   "cell_type": "code",
   "execution_count": 1,
   "metadata": {},
   "outputs": [
    {
     "name": "stdout",
     "output_type": "stream",
     "text": [
      "   X\n",
      "0  7\n",
      "1  2\n",
      "2  0\n",
      "3  3\n",
      "4  4\n",
      "5  2\n",
      "6  5\n",
      "7  0\n",
      "8  3\n",
      "9  4\n",
      "0    1.0\n",
      "1    2.0\n",
      "2    0.0\n",
      "3    1.0\n",
      "4    2.0\n",
      "5    3.0\n",
      "6    4.0\n",
      "7    0.0\n",
      "8    1.0\n",
      "9    2.0\n",
      "Name: Y, dtype: float64\n"
     ]
    }
   ],
   "source": [
    "import numpy as np\n",
    "import pandas as pd\n",
    "df = pd.DataFrame({'X': [7, 2, 0, 3, 4, 2, 5, 0, 3, 4]})\n",
    "print(df)\n",
    "x = (df['X'] != 0).cumsum()\n",
    "y = x != x.shift()\n",
    "df['Y'] = y.groupby((y != y.shift()).cumsum()).cumsum()\n",
    "print(df['Y'])\n"
   ]
  },
  {
   "cell_type": "markdown",
   "metadata": {},
   "source": [
    "# Create a DatetimeIndex that contains each business day of 2015 and use it to index a Series of random numbers"
   ]
  },
  {
   "cell_type": "code",
   "execution_count": 2,
   "metadata": {},
   "outputs": [
    {
     "data": {
      "text/plain": [
       "2015-01-01    0.175776\n",
       "2015-01-02    0.442423\n",
       "2015-01-05    0.128131\n",
       "2015-01-06    0.159887\n",
       "2015-01-07    0.143653\n",
       "2015-01-08    0.237001\n",
       "2015-01-09    0.958777\n",
       "2015-01-12    0.246060\n",
       "2015-01-13    0.278533\n",
       "2015-01-14    0.660045\n",
       "2015-01-15    0.549531\n",
       "2015-01-16    0.350703\n",
       "2015-01-19    0.328491\n",
       "2015-01-20    0.878701\n",
       "2015-01-21    0.309386\n",
       "2015-01-22    0.380748\n",
       "2015-01-23    0.095156\n",
       "2015-01-26    0.164633\n",
       "2015-01-27    0.688700\n",
       "2015-01-28    0.910620\n",
       "2015-01-29    0.732147\n",
       "2015-01-30    0.314490\n",
       "2015-02-02    0.998434\n",
       "2015-02-03    0.529152\n",
       "2015-02-04    0.922754\n",
       "2015-02-05    0.437131\n",
       "2015-02-06    0.395495\n",
       "2015-02-09    0.875576\n",
       "2015-02-10    0.756211\n",
       "2015-02-11    0.028193\n",
       "                ...   \n",
       "2015-11-20    0.767404\n",
       "2015-11-23    0.899328\n",
       "2015-11-24    0.227174\n",
       "2015-11-25    0.874877\n",
       "2015-11-26    0.061526\n",
       "2015-11-27    0.030721\n",
       "2015-11-30    0.941286\n",
       "2015-12-01    0.391174\n",
       "2015-12-02    0.498219\n",
       "2015-12-03    0.285510\n",
       "2015-12-04    0.774146\n",
       "2015-12-07    0.046568\n",
       "2015-12-08    0.094365\n",
       "2015-12-09    0.350631\n",
       "2015-12-10    0.750434\n",
       "2015-12-11    0.859792\n",
       "2015-12-14    0.262502\n",
       "2015-12-15    0.788069\n",
       "2015-12-16    0.058731\n",
       "2015-12-17    0.252600\n",
       "2015-12-18    0.411238\n",
       "2015-12-21    0.026120\n",
       "2015-12-22    0.682057\n",
       "2015-12-23    0.446112\n",
       "2015-12-24    0.989267\n",
       "2015-12-25    0.056888\n",
       "2015-12-28    0.492869\n",
       "2015-12-29    0.706136\n",
       "2015-12-30    0.364880\n",
       "2015-12-31    0.363489\n",
       "Freq: B, Length: 261, dtype: float64"
      ]
     },
     "execution_count": 2,
     "metadata": {},
     "output_type": "execute_result"
    }
   ],
   "source": [
    "import pandas as pd\n",
    "import numpy as np\n",
    "date_time = pd.date_range(start='2015-01-01', end='2015-12-31', freq='B') \n",
    "s = pd.Series(np.random.rand(len(date_time)), index=date_time)\n",
    "s"
   ]
  },
  {
   "cell_type": "markdown",
   "metadata": {},
   "source": [
    "#  Find the sum of the values in s for every Wednesday"
   ]
  },
  {
   "cell_type": "code",
   "execution_count": 3,
   "metadata": {},
   "outputs": [
    {
     "data": {
      "text/plain": [
       "24.15447520130526"
      ]
     },
     "execution_count": 3,
     "metadata": {},
     "output_type": "execute_result"
    }
   ],
   "source": [
    "s[s.index.weekday == 2].sum()"
   ]
  },
  {
   "cell_type": "markdown",
   "metadata": {},
   "source": [
    "# Average For each calendar month"
   ]
  },
  {
   "cell_type": "code",
   "execution_count": 4,
   "metadata": {},
   "outputs": [
    {
     "data": {
      "text/plain": [
       "2015-01-31    0.415163\n",
       "2015-02-28    0.648532\n",
       "2015-03-31    0.603862\n",
       "2015-04-30    0.432662\n",
       "2015-05-31    0.395137\n",
       "2015-06-30    0.450449\n",
       "2015-07-31    0.534108\n",
       "2015-08-31    0.410153\n",
       "2015-09-30    0.483994\n",
       "2015-10-31    0.485415\n",
       "2015-11-30    0.584988\n",
       "2015-12-31    0.432687\n",
       "Freq: M, dtype: float64"
      ]
     },
     "execution_count": 4,
     "metadata": {},
     "output_type": "execute_result"
    }
   ],
   "source": [
    "s.resample('M').mean()\n",
    "\n"
   ]
  },
  {
   "cell_type": "markdown",
   "metadata": {},
   "source": [
    "# For each group of four consecutive calendar months in s, find the date on which the highest value occurred"
   ]
  },
  {
   "cell_type": "code",
   "execution_count": 5,
   "metadata": {},
   "outputs": [
    {
     "data": {
      "text/plain": [
       "2015-01-31   2015-01-09\n",
       "2015-05-31   2015-02-02\n",
       "2015-09-30   2015-09-14\n",
       "2016-01-31   2015-12-24\n",
       "dtype: datetime64[ns]"
      ]
     },
     "execution_count": 5,
     "metadata": {},
     "output_type": "execute_result"
    }
   ],
   "source": [
    "s.groupby(pd.Grouper(freq='4M')).idxmax()"
   ]
  },
  {
   "cell_type": "code",
   "execution_count": null,
   "metadata": {},
   "outputs": [],
   "source": []
  }
 ],
 "metadata": {
  "kernelspec": {
   "display_name": "Python 3",
   "language": "python",
   "name": "python3"
  },
  "language_info": {
   "codemirror_mode": {
    "name": "ipython",
    "version": 3
   },
   "file_extension": ".py",
   "mimetype": "text/x-python",
   "name": "python",
   "nbconvert_exporter": "python",
   "pygments_lexer": "ipython3",
   "version": "3.7.0"
  }
 },
 "nbformat": 4,
 "nbformat_minor": 2
}
